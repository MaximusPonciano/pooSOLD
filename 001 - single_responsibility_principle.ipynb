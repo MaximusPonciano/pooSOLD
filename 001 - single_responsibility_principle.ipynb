{
 "cells": [
  {
   "cell_type": "markdown",
   "id": "ff4c55d4",
   "metadata": {},
   "source": [
    "## Princípio da Responsabilidade Única (SRP)\n",
    "\n",
    "Uma classe deve ter apenas um motivo para mudar. Em outras palavras, uma classe deve ter apenas uma responsabilidade.\n",
    "\n",
    "**Exemplo Ruim:** Uma classe que lida com o gerenciamento de usuários e a formatação de dados.\n"
   ]
  },
  {
   "cell_type": "code",
   "execution_count": null,
   "id": "4fa89664",
   "metadata": {},
   "outputs": [],
   "source": [
    "class GerenciadorDeUsuario:\n",
    "    def __init__(self):\n",
    "        self.usuarios = {}\n",
    "\n",
    "    def adicionar_usuario(self, nome, email):\n",
    "        if nome not in self.usuarios:\n",
    "            self.usuarios[nome] = email\n",
    "            print(f\"Usuário {nome} adicionado.\")\n",
    "        else:\n",
    "            print(f\"Usuário {nome} já existe.\")\n",
    "\n",
    "    def formatar_dados_para_relatorio(self):\n",
    "        # Formata os dados para um relatório em formato de string\n",
    "        relatorio = \"Relatório de Usuários:\\n\"\n",
    "        for nome, email in self.usuarios.items():\n",
    "            relatorio += f\"- {nome}: {email}\\n\"\n",
    "        return relatorio\n"
   ]
  },
  {
   "cell_type": "markdown",
   "id": "1f7f2e6c",
   "metadata": {},
   "source": [
    "## No exemplo acima, a classe GerenciadorDeUsuario tem duas responsabilidades:\n",
    "1. Gerenciar usuários (adicionar, remover, etc.).\n",
    "2. Formatar os dados para um relatório.\n",
    "Se a forma de formatação do relatório mudar, a classe GerenciadorDeUsuario precisará ser alterada, mesmo que a lógica de gerenciamento de usuários não tenha mudado.\n",
    "\n",
    "**Exemplo Bom:** Separando as responsabilidades em classes diferentes.\n"
   ]
  },
  {
   "cell_type": "code",
   "execution_count": null,
   "id": "9e07d855",
   "metadata": {},
   "outputs": [],
   "source": [
    "class GerenciadorDeUsuarioSRP:\n",
    "    \"\"\"Classe responsável apenas pelo gerenciamento de usuários.\"\"\"\n",
    "    def __init__(self):\n",
    "        self.usuarios = {}\n",
    "\n",
    "    def adicionar_usuario(self, nome, email):\n",
    "        if nome not in self.usuarios:\n",
    "            self.usuarios[nome] = email\n",
    "            print(f\"Usuário {nome} adicionado.\")\n",
    "        else:\n",
    "            print(f\"Usuário {nome} já existe.\")\n",
    "\n",
    "class FormatadorDeRelatorio:\n",
    "    \"\"\"Classe responsável apenas pela formatação de relatórios de usuários.\"\"\"\n",
    "    def formatar(self, usuarios):\n",
    "        relatorio = \"Relatório de Usuários:\\n\"\n",
    "        for nome, email in usuarios.items():\n",
    "            relatorio += f\"- {nome}: {email}\\n\"\n",
    "        return relatorio\n"
   ]
  },
  {
   "cell_type": "markdown",
   "id": "4bd5ce81",
   "metadata": {},
   "source": [
    "# Demonstração"
   ]
  },
  {
   "cell_type": "code",
   "execution_count": null,
   "id": "186ad93d",
   "metadata": {},
   "outputs": [
    {
     "name": "stdout",
     "output_type": "stream",
     "text": [
      "--- Exemplo Ruim ---\n",
      "Usuário Alice adicionado.\n",
      "Usuário Bob adicionado.\n",
      "Relatório de Usuários:\n",
      "- Alice: alice@example.com\n",
      "- Bob: bob@example.com\n",
      "\n",
      "\n",
      "==============================\n",
      "\n",
      "--- Exemplo Bom (SRP) ---\n",
      "Usuário Alice adicionado.\n",
      "Usuário Bob adicionado.\n",
      "Relatório de Usuários:\n",
      "- Alice: alice@example.com\n",
      "- Bob: bob@example.com\n",
      "\n"
     ]
    }
   ],
   "source": [
    "if __name__ == \"__main__\":\n",
    "    # Exemplo ruim\n",
    "    print(\"--- Exemplo Ruim ---\")\n",
    "    gerenciador_ruim = GerenciadorDeUsuario()\n",
    "    gerenciador_ruim.adicionar_usuario(\"Alice\", \"alice@example.com\")\n",
    "    gerenciador_ruim.adicionar_usuario(\"Bob\", \"bob@example.com\")\n",
    "    print(gerenciador_ruim.formatar_dados_para_relatorio())\n",
    "\n",
    "    print(\"\\n\" + \"=\"*30 + \"\\n\")\n",
    "\n",
    "    # Exemplo bom\n",
    "    print(\"--- Exemplo Bom (SRP) ---\")\n",
    "    gerenciador_bom = GerenciadorDeUsuarioSRP()\n",
    "    gerenciador_bom.adicionar_usuario(\"Alice\", \"alice@example.com\")\n",
    "    gerenciador_bom.adicionar_usuario(\"Bob\", \"bob@example.com\")\n",
    "\n",
    "    formatador = FormatadorDeRelatorio()\n",
    "    relatorio_formatado = formatador.formatar(gerenciador_bom.usuarios)\n",
    "    print(relatorio_formatado)\n"
   ]
  },
  {
   "cell_type": "code",
   "execution_count": null,
   "id": "f61f0c3e",
   "metadata": {},
   "outputs": [],
   "source": []
  }
 ],
 "metadata": {
  "kernelspec": {
   "display_name": "Python 3",
   "language": "python",
   "name": "python3"
  },
  "language_info": {
   "codemirror_mode": {
    "name": "ipython",
    "version": 3
   },
   "file_extension": ".py",
   "mimetype": "text/x-python",
   "name": "python",
   "nbconvert_exporter": "python",
   "pygments_lexer": "ipython3",
   "version": "3.10.12"
  }
 },
 "nbformat": 4,
 "nbformat_minor": 5
}
